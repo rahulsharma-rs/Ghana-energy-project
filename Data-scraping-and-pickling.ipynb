{
 "cells": [
  {
   "cell_type": "code",
   "execution_count": 6,
   "metadata": {},
   "outputs": [],
   "source": [
    "import pandas as pd\n",
    "import numpy as np\n",
    "import matplotlib.pyplot as plt\n",
    "import os"
   ]
  },
  {
   "cell_type": "code",
   "execution_count": 7,
   "metadata": {},
   "outputs": [
    {
     "data": {
      "text/plain": [
       "'/Users/mg/Documents/Ghana-Energy-Project'"
      ]
     },
     "execution_count": 7,
     "metadata": {},
     "output_type": "execute_result"
    }
   ],
   "source": [
    "pwd"
   ]
  },
  {
   "cell_type": "code",
   "execution_count": 8,
   "metadata": {},
   "outputs": [],
   "source": [
    "files=os.listdir('./data/')"
   ]
  },
  {
   "cell_type": "code",
   "execution_count": 11,
   "metadata": {},
   "outputs": [],
   "source": [
    "data=[]\n",
    "for fname in files:\n",
    "    df=pd.read_csv('./data/%s'%fname)\n",
    "    data.append(df)\n"
   ]
  },
  {
   "cell_type": "code",
   "execution_count": 14,
   "metadata": {},
   "outputs": [],
   "source": [
    "data1=pd.concat(data)"
   ]
  },
  {
   "cell_type": "code",
   "execution_count": 16,
   "metadata": {},
   "outputs": [
    {
     "data": {
      "text/plain": [
       "10944"
      ]
     },
     "execution_count": 16,
     "metadata": {},
     "output_type": "execute_result"
    }
   ],
   "source": [
    "data1.shape[0]"
   ]
  },
  {
   "cell_type": "code",
   "execution_count": 160,
   "metadata": {},
   "outputs": [],
   "source": [
    "data1.to_pickle('./data/rawdata.pkl')"
   ]
  },
  {
   "cell_type": "code",
   "execution_count": 309,
   "metadata": {},
   "outputs": [],
   "source": [
    "import datetime\n",
    "\n",
    "start = datetime.datetime.strptime(\"2019-1-1\", \"%Y-%m-%d\")\n",
    "end = datetime.datetime.strptime(\"2019-12-12\", \"%Y-%m-%d\")\n",
    "date_generated = [start + datetime.timedelta(days=x) for x in range(0, (end-start).days)]"
   ]
  },
  {
   "cell_type": "code",
   "execution_count": 310,
   "metadata": {},
   "outputs": [
    {
     "data": {
      "text/plain": [
       "345"
      ]
     },
     "execution_count": 310,
     "metadata": {},
     "output_type": "execute_result"
    }
   ],
   "source": [
    "date_generated.__len__()"
   ]
  },
  {
   "cell_type": "code",
   "execution_count": 311,
   "metadata": {},
   "outputs": [],
   "source": [
    "datelist=[int(x.timestamp()) for x in date_generated]"
   ]
  },
  {
   "cell_type": "code",
   "execution_count": 312,
   "metadata": {},
   "outputs": [
    {
     "data": {
      "text/plain": [
       "1546300800"
      ]
     },
     "execution_count": 312,
     "metadata": {},
     "output_type": "execute_result"
    }
   ],
   "source": [
    "datelist[0]"
   ]
  },
  {
   "cell_type": "code",
   "execution_count": 313,
   "metadata": {},
   "outputs": [
    {
     "data": {
      "text/plain": [
       "datetime.datetime(2019, 1, 1, 0, 0)"
      ]
     },
     "execution_count": 313,
     "metadata": {},
     "output_type": "execute_result"
    }
   ],
   "source": [
    "datetime.datetime.fromtimestamp(datelist[0])"
   ]
  },
  {
   "cell_type": "code",
   "execution_count": 314,
   "metadata": {},
   "outputs": [
    {
     "data": {
      "text/plain": [
       "365"
      ]
     },
     "execution_count": 314,
     "metadata": {},
     "output_type": "execute_result"
    }
   ],
   "source": [
    "lst.__len__()"
   ]
  },
  {
   "cell_type": "code",
   "execution_count": 315,
   "metadata": {},
   "outputs": [
    {
     "name": "stdout",
     "output_type": "stream",
     "text": [
      "finished\n"
     ]
    }
   ],
   "source": [
    "from bs4 import BeautifulSoup\n",
    "import urllib.request\n",
    "import sys\n",
    "from io import StringIO\n",
    "from datetime import date\n",
    "lst=[]\n",
    "for i in datelist:\n",
    "    try:\n",
    "        url='http://www.ghanagrid.com/index.php/loadprofile?disptime=%d'%i\n",
    "        page = urllib.request.urlopen('http://www.ghanagrid.com/index.php/loadprofile?disptime=1576022400')\n",
    "        soup = BeautifulSoup(page, 'lxml')\n",
    "        p=re.compile('var data = google\\.visualization\\.arrayToDataTable\\(.*\\]\\);')\n",
    "\n",
    "        m=p.search(soup.prettify())\n",
    "        x=m.group(0)\n",
    "        p1=re.compile('\\[.*\\]')\n",
    "        m1=p1.search(x)\n",
    "        m1.group(0)\n",
    "        x1=m1.group(0)\n",
    "        x1=x1.replace(']]',']')\n",
    "        x1=x1.replace('[[','[')\n",
    "\n",
    "        x2=x1.replace('],[',']\\n[')\n",
    "        x2=x2.replace('[','')\n",
    "        x2=x2.replace(']','')\n",
    "        x2=x2.replace('\\'','')\n",
    "\n",
    "        \n",
    "        TESTDATA = StringIO(x2)\n",
    "        df=pd.read_csv(TESTDATA)\n",
    "\n",
    "        \n",
    "\n",
    "        df['test']= datetime.datetime.fromtimestamp(i)#.strftime('%Y-%m-%d')\n",
    "        df['test']=pd.to_datetime(df['test'])\n",
    "\n",
    "        df['Hour1']=pd.to_timedelta(df['Hour'],unit='h')\n",
    "\n",
    "        df['datetime']=df['test']+df['Hour1']\n",
    "        lst.append(df)\n",
    "    except:\n",
    "        continue\n",
    "print('finished')"
   ]
  },
  {
   "cell_type": "code",
   "execution_count": 316,
   "metadata": {},
   "outputs": [],
   "source": [
    "data=pd.concat(lst)"
   ]
  },
  {
   "cell_type": "code",
   "execution_count": 317,
   "metadata": {},
   "outputs": [
    {
     "data": {
      "text/plain": [
       "8760"
      ]
     },
     "execution_count": 317,
     "metadata": {},
     "output_type": "execute_result"
    }
   ],
   "source": [
    "24*365"
   ]
  },
  {
   "cell_type": "code",
   "execution_count": 318,
   "metadata": {},
   "outputs": [
    {
     "data": {
      "text/plain": [
       "8256"
      ]
     },
     "execution_count": 318,
     "metadata": {},
     "output_type": "execute_result"
    }
   ],
   "source": [
    "data.shape[0]"
   ]
  },
  {
   "cell_type": "code",
   "execution_count": 319,
   "metadata": {},
   "outputs": [],
   "source": [
    "data.to_pickle('./data/year2019.pkl')"
   ]
  },
  {
   "cell_type": "code",
   "execution_count": 308,
   "metadata": {},
   "outputs": [
    {
     "data": {
      "text/html": [
       "<div>\n",
       "<style scoped>\n",
       "    .dataframe tbody tr th:only-of-type {\n",
       "        vertical-align: middle;\n",
       "    }\n",
       "\n",
       "    .dataframe tbody tr th {\n",
       "        vertical-align: top;\n",
       "    }\n",
       "\n",
       "    .dataframe thead th {\n",
       "        text-align: right;\n",
       "    }\n",
       "</style>\n",
       "<table border=\"1\" class=\"dataframe\">\n",
       "  <thead>\n",
       "    <tr style=\"text-align: right;\">\n",
       "      <th></th>\n",
       "      <th>Hour</th>\n",
       "      <th>Actual Load</th>\n",
       "      <th>Forecast Load</th>\n",
       "      <th>Managed Forecast Load</th>\n",
       "      <th>Available Generation</th>\n",
       "      <th>test</th>\n",
       "      <th>Hour1</th>\n",
       "      <th>datetime</th>\n",
       "    </tr>\n",
       "  </thead>\n",
       "  <tbody>\n",
       "    <tr>\n",
       "      <td>0</td>\n",
       "      <td>1</td>\n",
       "      <td>2142.10</td>\n",
       "      <td>2042</td>\n",
       "      <td>2042</td>\n",
       "      <td>2640</td>\n",
       "      <td>2018-01-01</td>\n",
       "      <td>0 days 01:00:00</td>\n",
       "      <td>2018-01-01 01:00:00</td>\n",
       "    </tr>\n",
       "    <tr>\n",
       "      <td>1</td>\n",
       "      <td>2</td>\n",
       "      <td>2081.79</td>\n",
       "      <td>2012</td>\n",
       "      <td>2012</td>\n",
       "      <td>2640</td>\n",
       "      <td>2018-01-01</td>\n",
       "      <td>0 days 02:00:00</td>\n",
       "      <td>2018-01-01 02:00:00</td>\n",
       "    </tr>\n",
       "    <tr>\n",
       "      <td>2</td>\n",
       "      <td>3</td>\n",
       "      <td>2041.30</td>\n",
       "      <td>1991</td>\n",
       "      <td>1991</td>\n",
       "      <td>2640</td>\n",
       "      <td>2018-01-01</td>\n",
       "      <td>0 days 03:00:00</td>\n",
       "      <td>2018-01-01 03:00:00</td>\n",
       "    </tr>\n",
       "    <tr>\n",
       "      <td>3</td>\n",
       "      <td>4</td>\n",
       "      <td>1998.44</td>\n",
       "      <td>2005</td>\n",
       "      <td>2005</td>\n",
       "      <td>2640</td>\n",
       "      <td>2018-01-01</td>\n",
       "      <td>0 days 04:00:00</td>\n",
       "      <td>2018-01-01 04:00:00</td>\n",
       "    </tr>\n",
       "    <tr>\n",
       "      <td>4</td>\n",
       "      <td>5</td>\n",
       "      <td>1999.15</td>\n",
       "      <td>2036</td>\n",
       "      <td>2036</td>\n",
       "      <td>2640</td>\n",
       "      <td>2018-01-01</td>\n",
       "      <td>0 days 05:00:00</td>\n",
       "      <td>2018-01-01 05:00:00</td>\n",
       "    </tr>\n",
       "    <tr>\n",
       "      <td>...</td>\n",
       "      <td>...</td>\n",
       "      <td>...</td>\n",
       "      <td>...</td>\n",
       "      <td>...</td>\n",
       "      <td>...</td>\n",
       "      <td>...</td>\n",
       "      <td>...</td>\n",
       "      <td>...</td>\n",
       "    </tr>\n",
       "    <tr>\n",
       "      <td>19</td>\n",
       "      <td>20</td>\n",
       "      <td>2536.00</td>\n",
       "      <td>2630</td>\n",
       "      <td>2430</td>\n",
       "      <td>2750</td>\n",
       "      <td>2018-12-31</td>\n",
       "      <td>0 days 20:00:00</td>\n",
       "      <td>2018-12-31 20:00:00</td>\n",
       "    </tr>\n",
       "    <tr>\n",
       "      <td>20</td>\n",
       "      <td>21</td>\n",
       "      <td>NaN</td>\n",
       "      <td>2627</td>\n",
       "      <td>2427</td>\n",
       "      <td>2750</td>\n",
       "      <td>2018-12-31</td>\n",
       "      <td>0 days 21:00:00</td>\n",
       "      <td>2018-12-31 21:00:00</td>\n",
       "    </tr>\n",
       "    <tr>\n",
       "      <td>21</td>\n",
       "      <td>22</td>\n",
       "      <td>2538.93</td>\n",
       "      <td>2512</td>\n",
       "      <td>2312</td>\n",
       "      <td>2750</td>\n",
       "      <td>2018-12-31</td>\n",
       "      <td>0 days 22:00:00</td>\n",
       "      <td>2018-12-31 22:00:00</td>\n",
       "    </tr>\n",
       "    <tr>\n",
       "      <td>22</td>\n",
       "      <td>23</td>\n",
       "      <td>2424.31</td>\n",
       "      <td>2270</td>\n",
       "      <td>2270</td>\n",
       "      <td>2720</td>\n",
       "      <td>2018-12-31</td>\n",
       "      <td>0 days 23:00:00</td>\n",
       "      <td>2018-12-31 23:00:00</td>\n",
       "    </tr>\n",
       "    <tr>\n",
       "      <td>23</td>\n",
       "      <td>24</td>\n",
       "      <td>2259.79</td>\n",
       "      <td>2116</td>\n",
       "      <td>2116</td>\n",
       "      <td>2720</td>\n",
       "      <td>2018-12-31</td>\n",
       "      <td>1 days 00:00:00</td>\n",
       "      <td>2019-01-01 00:00:00</td>\n",
       "    </tr>\n",
       "  </tbody>\n",
       "</table>\n",
       "<p>8760 rows × 8 columns</p>\n",
       "</div>"
      ],
      "text/plain": [
       "    Hour  Actual Load  Forecast Load  Managed Forecast Load  \\\n",
       "0      1      2142.10           2042                   2042   \n",
       "1      2      2081.79           2012                   2012   \n",
       "2      3      2041.30           1991                   1991   \n",
       "3      4      1998.44           2005                   2005   \n",
       "4      5      1999.15           2036                   2036   \n",
       "..   ...          ...            ...                    ...   \n",
       "19    20      2536.00           2630                   2430   \n",
       "20    21          NaN           2627                   2427   \n",
       "21    22      2538.93           2512                   2312   \n",
       "22    23      2424.31           2270                   2270   \n",
       "23    24      2259.79           2116                   2116   \n",
       "\n",
       "    Available Generation       test           Hour1            datetime  \n",
       "0                   2640 2018-01-01 0 days 01:00:00 2018-01-01 01:00:00  \n",
       "1                   2640 2018-01-01 0 days 02:00:00 2018-01-01 02:00:00  \n",
       "2                   2640 2018-01-01 0 days 03:00:00 2018-01-01 03:00:00  \n",
       "3                   2640 2018-01-01 0 days 04:00:00 2018-01-01 04:00:00  \n",
       "4                   2640 2018-01-01 0 days 05:00:00 2018-01-01 05:00:00  \n",
       "..                   ...        ...             ...                 ...  \n",
       "19                  2750 2018-12-31 0 days 20:00:00 2018-12-31 20:00:00  \n",
       "20                  2750 2018-12-31 0 days 21:00:00 2018-12-31 21:00:00  \n",
       "21                  2750 2018-12-31 0 days 22:00:00 2018-12-31 22:00:00  \n",
       "22                  2720 2018-12-31 0 days 23:00:00 2018-12-31 23:00:00  \n",
       "23                  2720 2018-12-31 1 days 00:00:00 2019-01-01 00:00:00  \n",
       "\n",
       "[8760 rows x 8 columns]"
      ]
     },
     "execution_count": 308,
     "metadata": {},
     "output_type": "execute_result"
    }
   ],
   "source": [
    "data"
   ]
  },
  {
   "cell_type": "code",
   "execution_count": 224,
   "metadata": {},
   "outputs": [
    {
     "data": {
      "text/html": [
       "<div>\n",
       "<style scoped>\n",
       "    .dataframe tbody tr th:only-of-type {\n",
       "        vertical-align: middle;\n",
       "    }\n",
       "\n",
       "    .dataframe tbody tr th {\n",
       "        vertical-align: top;\n",
       "    }\n",
       "\n",
       "    .dataframe thead th {\n",
       "        text-align: right;\n",
       "    }\n",
       "</style>\n",
       "<table border=\"1\" class=\"dataframe\">\n",
       "  <thead>\n",
       "    <tr style=\"text-align: right;\">\n",
       "      <th></th>\n",
       "      <th>Hour</th>\n",
       "      <th>Actual Load</th>\n",
       "      <th>Forecast Load</th>\n",
       "      <th>Managed Forecast Load</th>\n",
       "      <th>Available Generation</th>\n",
       "      <th>test</th>\n",
       "      <th>Hour1</th>\n",
       "      <th>datetime</th>\n",
       "    </tr>\n",
       "  </thead>\n",
       "  <tbody>\n",
       "    <tr>\n",
       "      <td>0</td>\n",
       "      <td>1</td>\n",
       "      <td>2142.10</td>\n",
       "      <td>2042</td>\n",
       "      <td>2042</td>\n",
       "      <td>2640</td>\n",
       "      <td>2011-12-31</td>\n",
       "      <td>0 days 01:00:00</td>\n",
       "      <td>2011-12-31 01:00:00</td>\n",
       "    </tr>\n",
       "    <tr>\n",
       "      <td>1</td>\n",
       "      <td>2</td>\n",
       "      <td>2081.79</td>\n",
       "      <td>2012</td>\n",
       "      <td>2012</td>\n",
       "      <td>2640</td>\n",
       "      <td>2011-12-31</td>\n",
       "      <td>0 days 02:00:00</td>\n",
       "      <td>2011-12-31 02:00:00</td>\n",
       "    </tr>\n",
       "    <tr>\n",
       "      <td>2</td>\n",
       "      <td>3</td>\n",
       "      <td>2041.30</td>\n",
       "      <td>1991</td>\n",
       "      <td>1991</td>\n",
       "      <td>2640</td>\n",
       "      <td>2011-12-31</td>\n",
       "      <td>0 days 03:00:00</td>\n",
       "      <td>2011-12-31 03:00:00</td>\n",
       "    </tr>\n",
       "    <tr>\n",
       "      <td>3</td>\n",
       "      <td>4</td>\n",
       "      <td>1998.44</td>\n",
       "      <td>2005</td>\n",
       "      <td>2005</td>\n",
       "      <td>2640</td>\n",
       "      <td>2011-12-31</td>\n",
       "      <td>0 days 04:00:00</td>\n",
       "      <td>2011-12-31 04:00:00</td>\n",
       "    </tr>\n",
       "    <tr>\n",
       "      <td>4</td>\n",
       "      <td>5</td>\n",
       "      <td>1999.15</td>\n",
       "      <td>2036</td>\n",
       "      <td>2036</td>\n",
       "      <td>2640</td>\n",
       "      <td>2011-12-31</td>\n",
       "      <td>0 days 05:00:00</td>\n",
       "      <td>2011-12-31 05:00:00</td>\n",
       "    </tr>\n",
       "    <tr>\n",
       "      <td>5</td>\n",
       "      <td>6</td>\n",
       "      <td>2024.60</td>\n",
       "      <td>2086</td>\n",
       "      <td>2086</td>\n",
       "      <td>2640</td>\n",
       "      <td>2011-12-31</td>\n",
       "      <td>0 days 06:00:00</td>\n",
       "      <td>2011-12-31 06:00:00</td>\n",
       "    </tr>\n",
       "    <tr>\n",
       "      <td>6</td>\n",
       "      <td>7</td>\n",
       "      <td>1951.09</td>\n",
       "      <td>2015</td>\n",
       "      <td>2015</td>\n",
       "      <td>2640</td>\n",
       "      <td>2011-12-31</td>\n",
       "      <td>0 days 07:00:00</td>\n",
       "      <td>2011-12-31 07:00:00</td>\n",
       "    </tr>\n",
       "    <tr>\n",
       "      <td>7</td>\n",
       "      <td>8</td>\n",
       "      <td>1784.11</td>\n",
       "      <td>2040</td>\n",
       "      <td>2040</td>\n",
       "      <td>2640</td>\n",
       "      <td>2011-12-31</td>\n",
       "      <td>0 days 08:00:00</td>\n",
       "      <td>2011-12-31 08:00:00</td>\n",
       "    </tr>\n",
       "    <tr>\n",
       "      <td>8</td>\n",
       "      <td>9</td>\n",
       "      <td>1867.74</td>\n",
       "      <td>2067</td>\n",
       "      <td>2067</td>\n",
       "      <td>2640</td>\n",
       "      <td>2011-12-31</td>\n",
       "      <td>0 days 09:00:00</td>\n",
       "      <td>2011-12-31 09:00:00</td>\n",
       "    </tr>\n",
       "    <tr>\n",
       "      <td>9</td>\n",
       "      <td>10</td>\n",
       "      <td>1957.38</td>\n",
       "      <td>2092</td>\n",
       "      <td>2092</td>\n",
       "      <td>2640</td>\n",
       "      <td>2011-12-31</td>\n",
       "      <td>0 days 10:00:00</td>\n",
       "      <td>2011-12-31 10:00:00</td>\n",
       "    </tr>\n",
       "    <tr>\n",
       "      <td>10</td>\n",
       "      <td>11</td>\n",
       "      <td>2030.70</td>\n",
       "      <td>2097</td>\n",
       "      <td>2097</td>\n",
       "      <td>2640</td>\n",
       "      <td>2011-12-31</td>\n",
       "      <td>0 days 11:00:00</td>\n",
       "      <td>2011-12-31 11:00:00</td>\n",
       "    </tr>\n",
       "    <tr>\n",
       "      <td>11</td>\n",
       "      <td>12</td>\n",
       "      <td>NaN</td>\n",
       "      <td>2116</td>\n",
       "      <td>2116</td>\n",
       "      <td>2640</td>\n",
       "      <td>2011-12-31</td>\n",
       "      <td>0 days 12:00:00</td>\n",
       "      <td>2011-12-31 12:00:00</td>\n",
       "    </tr>\n",
       "    <tr>\n",
       "      <td>12</td>\n",
       "      <td>13</td>\n",
       "      <td>1959.04</td>\n",
       "      <td>2123</td>\n",
       "      <td>2123</td>\n",
       "      <td>2640</td>\n",
       "      <td>2011-12-31</td>\n",
       "      <td>0 days 13:00:00</td>\n",
       "      <td>2011-12-31 13:00:00</td>\n",
       "    </tr>\n",
       "    <tr>\n",
       "      <td>13</td>\n",
       "      <td>14</td>\n",
       "      <td>2007.19</td>\n",
       "      <td>2159</td>\n",
       "      <td>2159</td>\n",
       "      <td>2540</td>\n",
       "      <td>2011-12-31</td>\n",
       "      <td>0 days 14:00:00</td>\n",
       "      <td>2011-12-31 14:00:00</td>\n",
       "    </tr>\n",
       "    <tr>\n",
       "      <td>14</td>\n",
       "      <td>15</td>\n",
       "      <td>2087.70</td>\n",
       "      <td>2169</td>\n",
       "      <td>2169</td>\n",
       "      <td>2540</td>\n",
       "      <td>2011-12-31</td>\n",
       "      <td>0 days 15:00:00</td>\n",
       "      <td>2011-12-31 15:00:00</td>\n",
       "    </tr>\n",
       "    <tr>\n",
       "      <td>15</td>\n",
       "      <td>16</td>\n",
       "      <td>2119.49</td>\n",
       "      <td>2187</td>\n",
       "      <td>2187</td>\n",
       "      <td>2560</td>\n",
       "      <td>2011-12-31</td>\n",
       "      <td>0 days 16:00:00</td>\n",
       "      <td>2011-12-31 16:00:00</td>\n",
       "    </tr>\n",
       "    <tr>\n",
       "      <td>16</td>\n",
       "      <td>17</td>\n",
       "      <td>2131.65</td>\n",
       "      <td>2183</td>\n",
       "      <td>2183</td>\n",
       "      <td>2620</td>\n",
       "      <td>2011-12-31</td>\n",
       "      <td>0 days 17:00:00</td>\n",
       "      <td>2011-12-31 17:00:00</td>\n",
       "    </tr>\n",
       "    <tr>\n",
       "      <td>17</td>\n",
       "      <td>18</td>\n",
       "      <td>2196.17</td>\n",
       "      <td>2187</td>\n",
       "      <td>2187</td>\n",
       "      <td>2640</td>\n",
       "      <td>2011-12-31</td>\n",
       "      <td>0 days 18:00:00</td>\n",
       "      <td>2011-12-31 18:00:00</td>\n",
       "    </tr>\n",
       "    <tr>\n",
       "      <td>18</td>\n",
       "      <td>19</td>\n",
       "      <td>2505.44</td>\n",
       "      <td>2612</td>\n",
       "      <td>2412</td>\n",
       "      <td>2750</td>\n",
       "      <td>2011-12-31</td>\n",
       "      <td>0 days 19:00:00</td>\n",
       "      <td>2011-12-31 19:00:00</td>\n",
       "    </tr>\n",
       "    <tr>\n",
       "      <td>19</td>\n",
       "      <td>20</td>\n",
       "      <td>2536.00</td>\n",
       "      <td>2630</td>\n",
       "      <td>2430</td>\n",
       "      <td>2750</td>\n",
       "      <td>2011-12-31</td>\n",
       "      <td>0 days 20:00:00</td>\n",
       "      <td>2011-12-31 20:00:00</td>\n",
       "    </tr>\n",
       "    <tr>\n",
       "      <td>20</td>\n",
       "      <td>21</td>\n",
       "      <td>NaN</td>\n",
       "      <td>2627</td>\n",
       "      <td>2427</td>\n",
       "      <td>2750</td>\n",
       "      <td>2011-12-31</td>\n",
       "      <td>0 days 21:00:00</td>\n",
       "      <td>2011-12-31 21:00:00</td>\n",
       "    </tr>\n",
       "    <tr>\n",
       "      <td>21</td>\n",
       "      <td>22</td>\n",
       "      <td>2538.93</td>\n",
       "      <td>2512</td>\n",
       "      <td>2312</td>\n",
       "      <td>2750</td>\n",
       "      <td>2011-12-31</td>\n",
       "      <td>0 days 22:00:00</td>\n",
       "      <td>2011-12-31 22:00:00</td>\n",
       "    </tr>\n",
       "    <tr>\n",
       "      <td>22</td>\n",
       "      <td>23</td>\n",
       "      <td>2424.31</td>\n",
       "      <td>2270</td>\n",
       "      <td>2270</td>\n",
       "      <td>2720</td>\n",
       "      <td>2011-12-31</td>\n",
       "      <td>0 days 23:00:00</td>\n",
       "      <td>2011-12-31 23:00:00</td>\n",
       "    </tr>\n",
       "    <tr>\n",
       "      <td>23</td>\n",
       "      <td>24</td>\n",
       "      <td>2259.79</td>\n",
       "      <td>2116</td>\n",
       "      <td>2116</td>\n",
       "      <td>2720</td>\n",
       "      <td>2011-12-31</td>\n",
       "      <td>1 days 00:00:00</td>\n",
       "      <td>2012-01-01 00:00:00</td>\n",
       "    </tr>\n",
       "  </tbody>\n",
       "</table>\n",
       "</div>"
      ],
      "text/plain": [
       "    Hour  Actual Load  Forecast Load  Managed Forecast Load  \\\n",
       "0      1      2142.10           2042                   2042   \n",
       "1      2      2081.79           2012                   2012   \n",
       "2      3      2041.30           1991                   1991   \n",
       "3      4      1998.44           2005                   2005   \n",
       "4      5      1999.15           2036                   2036   \n",
       "5      6      2024.60           2086                   2086   \n",
       "6      7      1951.09           2015                   2015   \n",
       "7      8      1784.11           2040                   2040   \n",
       "8      9      1867.74           2067                   2067   \n",
       "9     10      1957.38           2092                   2092   \n",
       "10    11      2030.70           2097                   2097   \n",
       "11    12          NaN           2116                   2116   \n",
       "12    13      1959.04           2123                   2123   \n",
       "13    14      2007.19           2159                   2159   \n",
       "14    15      2087.70           2169                   2169   \n",
       "15    16      2119.49           2187                   2187   \n",
       "16    17      2131.65           2183                   2183   \n",
       "17    18      2196.17           2187                   2187   \n",
       "18    19      2505.44           2612                   2412   \n",
       "19    20      2536.00           2630                   2430   \n",
       "20    21          NaN           2627                   2427   \n",
       "21    22      2538.93           2512                   2312   \n",
       "22    23      2424.31           2270                   2270   \n",
       "23    24      2259.79           2116                   2116   \n",
       "\n",
       "    Available Generation       test           Hour1            datetime  \n",
       "0                   2640 2011-12-31 0 days 01:00:00 2011-12-31 01:00:00  \n",
       "1                   2640 2011-12-31 0 days 02:00:00 2011-12-31 02:00:00  \n",
       "2                   2640 2011-12-31 0 days 03:00:00 2011-12-31 03:00:00  \n",
       "3                   2640 2011-12-31 0 days 04:00:00 2011-12-31 04:00:00  \n",
       "4                   2640 2011-12-31 0 days 05:00:00 2011-12-31 05:00:00  \n",
       "5                   2640 2011-12-31 0 days 06:00:00 2011-12-31 06:00:00  \n",
       "6                   2640 2011-12-31 0 days 07:00:00 2011-12-31 07:00:00  \n",
       "7                   2640 2011-12-31 0 days 08:00:00 2011-12-31 08:00:00  \n",
       "8                   2640 2011-12-31 0 days 09:00:00 2011-12-31 09:00:00  \n",
       "9                   2640 2011-12-31 0 days 10:00:00 2011-12-31 10:00:00  \n",
       "10                  2640 2011-12-31 0 days 11:00:00 2011-12-31 11:00:00  \n",
       "11                  2640 2011-12-31 0 days 12:00:00 2011-12-31 12:00:00  \n",
       "12                  2640 2011-12-31 0 days 13:00:00 2011-12-31 13:00:00  \n",
       "13                  2540 2011-12-31 0 days 14:00:00 2011-12-31 14:00:00  \n",
       "14                  2540 2011-12-31 0 days 15:00:00 2011-12-31 15:00:00  \n",
       "15                  2560 2011-12-31 0 days 16:00:00 2011-12-31 16:00:00  \n",
       "16                  2620 2011-12-31 0 days 17:00:00 2011-12-31 17:00:00  \n",
       "17                  2640 2011-12-31 0 days 18:00:00 2011-12-31 18:00:00  \n",
       "18                  2750 2011-12-31 0 days 19:00:00 2011-12-31 19:00:00  \n",
       "19                  2750 2011-12-31 0 days 20:00:00 2011-12-31 20:00:00  \n",
       "20                  2750 2011-12-31 0 days 21:00:00 2011-12-31 21:00:00  \n",
       "21                  2750 2011-12-31 0 days 22:00:00 2011-12-31 22:00:00  \n",
       "22                  2720 2011-12-31 0 days 23:00:00 2011-12-31 23:00:00  \n",
       "23                  2720 2011-12-31 1 days 00:00:00 2012-01-01 00:00:00  "
      ]
     },
     "execution_count": 224,
     "metadata": {},
     "output_type": "execute_result"
    }
   ],
   "source": [
    "df"
   ]
  },
  {
   "cell_type": "code",
   "execution_count": null,
   "metadata": {},
   "outputs": [],
   "source": []
  }
 ],
 "metadata": {
  "kernelspec": {
   "display_name": "Python 3",
   "language": "python",
   "name": "python3"
  },
  "language_info": {
   "codemirror_mode": {
    "name": "ipython",
    "version": 3
   },
   "file_extension": ".py",
   "mimetype": "text/x-python",
   "name": "python",
   "nbconvert_exporter": "python",
   "pygments_lexer": "ipython3",
   "version": "3.7.4"
  }
 },
 "nbformat": 4,
 "nbformat_minor": 2
}
